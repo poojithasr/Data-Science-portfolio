{
 "cells": [
  {
   "cell_type": "code",
   "execution_count": 202,
   "id": "b18a9c5c-395f-4646-820b-f57c756d3bb2",
   "metadata": {},
   "outputs": [],
   "source": [
    "import pandas as pd\n",
    "import numpy as np\n",
    "import matplotlib.pyplot as plt\n",
    "import random\n",
    "import math\n",
    "from statsmodels.stats.power import NormalIndPower\n",
    "from statsmodels.stats.proportion import proportion_effectsize\n",
    "from statsmodels.stats.proportion import proportions_ztest, proportion_confint\n",
    "from statsmodels.stats.power import NormalIndPower\n"
   ]
  },
  {
   "cell_type": "code",
   "execution_count": 204,
   "id": "9f3c3aa1-fca7-4b1a-ac3e-ec8538184d2f",
   "metadata": {},
   "outputs": [
    {
     "data": {
      "text/html": [
       "<div>\n",
       "<style scoped>\n",
       "    .dataframe tbody tr th:only-of-type {\n",
       "        vertical-align: middle;\n",
       "    }\n",
       "\n",
       "    .dataframe tbody tr th {\n",
       "        vertical-align: top;\n",
       "    }\n",
       "\n",
       "    .dataframe thead th {\n",
       "        text-align: right;\n",
       "    }\n",
       "</style>\n",
       "<table border=\"1\" class=\"dataframe\">\n",
       "  <thead>\n",
       "    <tr style=\"text-align: right;\">\n",
       "      <th></th>\n",
       "      <th>user_id</th>\n",
       "      <th>timestamp</th>\n",
       "      <th>group</th>\n",
       "      <th>landing_page</th>\n",
       "      <th>converted</th>\n",
       "    </tr>\n",
       "  </thead>\n",
       "  <tbody>\n",
       "    <tr>\n",
       "      <th>0</th>\n",
       "      <td>851104</td>\n",
       "      <td>2017-01-21 22:11:48.556739</td>\n",
       "      <td>control</td>\n",
       "      <td>old_page</td>\n",
       "      <td>0</td>\n",
       "    </tr>\n",
       "    <tr>\n",
       "      <th>1</th>\n",
       "      <td>804228</td>\n",
       "      <td>2017-01-12 08:01:45.159739</td>\n",
       "      <td>control</td>\n",
       "      <td>old_page</td>\n",
       "      <td>0</td>\n",
       "    </tr>\n",
       "    <tr>\n",
       "      <th>2</th>\n",
       "      <td>661590</td>\n",
       "      <td>2017-01-11 16:55:06.154213</td>\n",
       "      <td>treatment</td>\n",
       "      <td>new_page</td>\n",
       "      <td>0</td>\n",
       "    </tr>\n",
       "    <tr>\n",
       "      <th>3</th>\n",
       "      <td>853541</td>\n",
       "      <td>2017-01-08 18:28:03.143765</td>\n",
       "      <td>treatment</td>\n",
       "      <td>new_page</td>\n",
       "      <td>0</td>\n",
       "    </tr>\n",
       "    <tr>\n",
       "      <th>4</th>\n",
       "      <td>864975</td>\n",
       "      <td>2017-01-21 01:52:26.210827</td>\n",
       "      <td>control</td>\n",
       "      <td>old_page</td>\n",
       "      <td>1</td>\n",
       "    </tr>\n",
       "  </tbody>\n",
       "</table>\n",
       "</div>"
      ],
      "text/plain": [
       "   user_id                   timestamp      group landing_page  converted\n",
       "0   851104  2017-01-21 22:11:48.556739    control     old_page          0\n",
       "1   804228  2017-01-12 08:01:45.159739    control     old_page          0\n",
       "2   661590  2017-01-11 16:55:06.154213  treatment     new_page          0\n",
       "3   853541  2017-01-08 18:28:03.143765  treatment     new_page          0\n",
       "4   864975  2017-01-21 01:52:26.210827    control     old_page          1"
      ]
     },
     "execution_count": 204,
     "metadata": {},
     "output_type": "execute_result"
    }
   ],
   "source": [
    "#Load data for A/B testing intoa pandas dataframe\n",
    "df = pd.read_csv(\"/Users/poojitha/Downloads/ab_data.csv\")\n",
    "df.head()"
   ]
  },
  {
   "cell_type": "code",
   "execution_count": 206,
   "id": "7e300f00-6e82-4395-a025-7a85c5fc3ba8",
   "metadata": {},
   "outputs": [
    {
     "data": {
      "text/plain": [
       "(294478, 5)"
      ]
     },
     "execution_count": 206,
     "metadata": {},
     "output_type": "execute_result"
    }
   ],
   "source": [
    "#To find the number of rows, columns in the dataset.\n",
    "df.shape"
   ]
  },
  {
   "cell_type": "code",
   "execution_count": 208,
   "id": "814b4b64-4cdb-44c8-a5dc-35125d7abc9e",
   "metadata": {},
   "outputs": [
    {
     "data": {
      "text/plain": [
       "290584"
      ]
     },
     "execution_count": 208,
     "metadata": {},
     "output_type": "execute_result"
    }
   ],
   "source": [
    "#To find the number of unique users in the dataset.\n",
    "df.user_id.nunique()"
   ]
  },
  {
   "cell_type": "code",
   "execution_count": 210,
   "id": "549cf779-8233-47e6-b032-23de8b8641a0",
   "metadata": {},
   "outputs": [
    {
     "data": {
      "text/plain": [
       "converted\n",
       "False    259241\n",
       "True      35237\n",
       "Name: count, dtype: int64"
      ]
     },
     "execution_count": 210,
     "metadata": {},
     "output_type": "execute_result"
    }
   ],
   "source": [
    "#proportion of users converted\n",
    "(df.converted==1).value_counts()"
   ]
  },
  {
   "cell_type": "code",
   "execution_count": 212,
   "id": "41c47159-c73b-429c-88c5-fae1a5169762",
   "metadata": {},
   "outputs": [
    {
     "data": {
      "text/plain": [
       "3893"
      ]
     },
     "execution_count": 212,
     "metadata": {},
     "output_type": "execute_result"
    }
   ],
   "source": [
    "#To find data inconsistencies when the 'new_page' and 'treatment' or the 'old_page' and 'control' don't lineup\n",
    "((df.group=='treatment') & (df.landing_page=='old_page')).sum()+((df.group=='control') & (df.landing_page=='new_page')).sum()"
   ]
  },
  {
   "cell_type": "code",
   "execution_count": 214,
   "id": "c5243b13-9323-4cd4-be3a-1b140a4381f5",
   "metadata": {},
   "outputs": [
    {
     "name": "stdout",
     "output_type": "stream",
     "text": [
      "<class 'pandas.core.frame.DataFrame'>\n",
      "RangeIndex: 294478 entries, 0 to 294477\n",
      "Data columns (total 5 columns):\n",
      " #   Column        Non-Null Count   Dtype \n",
      "---  ------        --------------   ----- \n",
      " 0   user_id       294478 non-null  int64 \n",
      " 1   timestamp     294478 non-null  object\n",
      " 2   group         294478 non-null  object\n",
      " 3   landing_page  294478 non-null  object\n",
      " 4   converted     294478 non-null  int64 \n",
      "dtypes: int64(2), object(3)\n",
      "memory usage: 11.2+ MB\n"
     ]
    }
   ],
   "source": [
    "df.info()"
   ]
  },
  {
   "cell_type": "code",
   "execution_count": 216,
   "id": "3af3f9d6-1fc5-40ba-93b2-9e5b07dc6f70",
   "metadata": {},
   "outputs": [
    {
     "data": {
      "text/plain": [
       "1.322000285250511"
      ]
     },
     "execution_count": 216,
     "metadata": {},
     "output_type": "execute_result"
    }
   ],
   "source": [
    "#Percentage of mismatched values\n",
    "((((df.group=='treatment') & (df.landing_page=='old_page')).sum()+((df.group=='control') & (df.landing_page=='new_page')).sum())/df.shape[0])*100"
   ]
  },
  {
   "cell_type": "code",
   "execution_count": 218,
   "id": "9452bb9e-fd16-4c52-a577-e38d0bc07e1f",
   "metadata": {},
   "outputs": [],
   "source": [
    "#Let us drop the mismatched rows, since changing the values of new_page/old_page to have 'treatment/control' respectively might alter the analysis\n",
    "#There are just 1.3% mismatched rows\n",
    "\n",
    "df['misaligned']=((df.group=='treatment') & (df.landing_page=='old_page')) | ((df.group=='control') & (df.landing_page=='new_page'))"
   ]
  },
  {
   "cell_type": "code",
   "execution_count": 220,
   "id": "9aba0911-7d2e-4bd6-97eb-82d5884ef967",
   "metadata": {},
   "outputs": [],
   "source": [
    "#Extract rows which are not misaligned\n",
    "df2=df.query('misaligned==False')"
   ]
  },
  {
   "cell_type": "code",
   "execution_count": 222,
   "id": "c62da6f6-1658-4d0f-a22d-d47178fa6b70",
   "metadata": {},
   "outputs": [
    {
     "data": {
      "text/plain": [
       "(290585, 6)"
      ]
     },
     "execution_count": 222,
     "metadata": {},
     "output_type": "execute_result"
    }
   ],
   "source": [
    "df2.shape"
   ]
  },
  {
   "cell_type": "code",
   "execution_count": 224,
   "id": "35531d18-2ad5-43e7-bd1c-adc43e1c819e",
   "metadata": {},
   "outputs": [
    {
     "data": {
      "text/plain": [
       "0"
      ]
     },
     "execution_count": 224,
     "metadata": {},
     "output_type": "execute_result"
    }
   ],
   "source": [
    "#to double check if all correct rows were removed\n",
    "df2[((df2['group'] == 'treatment') == (df2['landing_page'] == 'new_page')) == False].shape[0]"
   ]
  },
  {
   "cell_type": "code",
   "execution_count": 226,
   "id": "2d47b3eb-f97b-45d5-8537-c9a367a2b4b0",
   "metadata": {},
   "outputs": [
    {
     "data": {
      "text/plain": [
       "290584"
      ]
     },
     "execution_count": 226,
     "metadata": {},
     "output_type": "execute_result"
    }
   ],
   "source": [
    "# check for the number of unique users\n",
    "df2['user_id'].nunique()"
   ]
  },
  {
   "cell_type": "code",
   "execution_count": 228,
   "id": "71d4767a-5989-41c7-8a66-5305c30bb612",
   "metadata": {},
   "outputs": [
    {
     "data": {
      "text/plain": [
       "user_id\n",
       "773192    2\n",
       "834487    1\n",
       "936923    1\n",
       "679687    1\n",
       "719014    1\n",
       "Name: count, dtype: int64"
      ]
     },
     "execution_count": 228,
     "metadata": {},
     "output_type": "execute_result"
    }
   ],
   "source": [
    "#find the user who is repeated\n",
    "df2['user_id'].value_counts().sort_values(ascending=False).head()"
   ]
  },
  {
   "cell_type": "code",
   "execution_count": 230,
   "id": "fddde443-0294-4087-8e03-b0c4ceca8fa6",
   "metadata": {},
   "outputs": [
    {
     "data": {
      "text/html": [
       "<div>\n",
       "<style scoped>\n",
       "    .dataframe tbody tr th:only-of-type {\n",
       "        vertical-align: middle;\n",
       "    }\n",
       "\n",
       "    .dataframe tbody tr th {\n",
       "        vertical-align: top;\n",
       "    }\n",
       "\n",
       "    .dataframe thead th {\n",
       "        text-align: right;\n",
       "    }\n",
       "</style>\n",
       "<table border=\"1\" class=\"dataframe\">\n",
       "  <thead>\n",
       "    <tr style=\"text-align: right;\">\n",
       "      <th></th>\n",
       "      <th>user_id</th>\n",
       "      <th>timestamp</th>\n",
       "      <th>group</th>\n",
       "      <th>landing_page</th>\n",
       "      <th>converted</th>\n",
       "      <th>misaligned</th>\n",
       "    </tr>\n",
       "  </thead>\n",
       "  <tbody>\n",
       "    <tr>\n",
       "      <th>1899</th>\n",
       "      <td>773192</td>\n",
       "      <td>2017-01-09 05:37:58.781806</td>\n",
       "      <td>treatment</td>\n",
       "      <td>new_page</td>\n",
       "      <td>0</td>\n",
       "      <td>False</td>\n",
       "    </tr>\n",
       "    <tr>\n",
       "      <th>2893</th>\n",
       "      <td>773192</td>\n",
       "      <td>2017-01-14 02:55:59.590927</td>\n",
       "      <td>treatment</td>\n",
       "      <td>new_page</td>\n",
       "      <td>0</td>\n",
       "      <td>False</td>\n",
       "    </tr>\n",
       "  </tbody>\n",
       "</table>\n",
       "</div>"
      ],
      "text/plain": [
       "      user_id                   timestamp      group landing_page  converted  \\\n",
       "1899   773192  2017-01-09 05:37:58.781806  treatment     new_page          0   \n",
       "2893   773192  2017-01-14 02:55:59.590927  treatment     new_page          0   \n",
       "\n",
       "      misaligned  \n",
       "1899       False  \n",
       "2893       False  "
      ]
     },
     "execution_count": 230,
     "metadata": {},
     "output_type": "execute_result"
    }
   ],
   "source": [
    "#Row information of the repeat userID\n",
    "df2.query('user_id==773192')"
   ]
  },
  {
   "cell_type": "code",
   "execution_count": 232,
   "id": "19a6d5db-46b5-448f-8a8a-cbdb29d595a8",
   "metadata": {},
   "outputs": [],
   "source": [
    "#drop one of the repeat rows for userID 773192\n",
    "df2 = df2.drop(1899, axis=0)\n"
   ]
  },
  {
   "cell_type": "code",
   "execution_count": 234,
   "id": "4e5fcd4e-f7d4-4e37-b2d0-30c93bd5bf07",
   "metadata": {},
   "outputs": [
    {
     "data": {
      "text/html": [
       "<div>\n",
       "<style scoped>\n",
       "    .dataframe tbody tr th:only-of-type {\n",
       "        vertical-align: middle;\n",
       "    }\n",
       "\n",
       "    .dataframe tbody tr th {\n",
       "        vertical-align: top;\n",
       "    }\n",
       "\n",
       "    .dataframe thead th {\n",
       "        text-align: right;\n",
       "    }\n",
       "</style>\n",
       "<table border=\"1\" class=\"dataframe\">\n",
       "  <thead>\n",
       "    <tr style=\"text-align: right;\">\n",
       "      <th></th>\n",
       "      <th>user_id</th>\n",
       "      <th>timestamp</th>\n",
       "      <th>group</th>\n",
       "      <th>landing_page</th>\n",
       "      <th>converted</th>\n",
       "      <th>misaligned</th>\n",
       "    </tr>\n",
       "  </thead>\n",
       "  <tbody>\n",
       "    <tr>\n",
       "      <th>2893</th>\n",
       "      <td>773192</td>\n",
       "      <td>2017-01-14 02:55:59.590927</td>\n",
       "      <td>treatment</td>\n",
       "      <td>new_page</td>\n",
       "      <td>0</td>\n",
       "      <td>False</td>\n",
       "    </tr>\n",
       "  </tbody>\n",
       "</table>\n",
       "</div>"
      ],
      "text/plain": [
       "      user_id                   timestamp      group landing_page  converted  \\\n",
       "2893   773192  2017-01-14 02:55:59.590927  treatment     new_page          0   \n",
       "\n",
       "      misaligned  \n",
       "2893       False  "
      ]
     },
     "execution_count": 234,
     "metadata": {},
     "output_type": "execute_result"
    }
   ],
   "source": [
    "df2.query('user_id==773192')\n"
   ]
  },
  {
   "cell_type": "code",
   "execution_count": 236,
   "id": "d5e62324-c977-4ddf-950e-db1f14fabfaa",
   "metadata": {},
   "outputs": [
    {
     "data": {
      "text/plain": [
       "converted\n",
       "False    255831\n",
       "True      34753\n",
       "Name: count, dtype: int64"
      ]
     },
     "execution_count": 236,
     "metadata": {},
     "output_type": "execute_result"
    }
   ],
   "source": [
    "(df2.converted==1).value_counts()"
   ]
  },
  {
   "cell_type": "code",
   "execution_count": 238,
   "id": "d87eb1ea-13e3-4f9f-a820-c0208c610c46",
   "metadata": {},
   "outputs": [
    {
     "data": {
      "text/plain": [
       "0.1203863045004612"
      ]
     },
     "execution_count": 238,
     "metadata": {},
     "output_type": "execute_result"
    }
   ],
   "source": [
    "#Percentage of people in control group who converted\n",
    "p_control=(df2.query('group==\"control\"')['converted']==1).mean()\n",
    "p_control"
   ]
  },
  {
   "cell_type": "code",
   "execution_count": 240,
   "id": "52234f86-2263-4e20-82bf-4ffd2ca9f47a",
   "metadata": {},
   "outputs": [
    {
     "data": {
      "text/plain": [
       "0.11880806551510564"
      ]
     },
     "execution_count": 240,
     "metadata": {},
     "output_type": "execute_result"
    }
   ],
   "source": [
    "#Percentage of people in treatment group who converted\n",
    "p_test=(df2.query('group==\"treatment\"')['converted']==1).mean()\n",
    "p_test"
   ]
  },
  {
   "cell_type": "markdown",
   "id": "3ed87f27-51ff-4610-b40a-d61a52f276be",
   "metadata": {},
   "source": [
    "The conversion rates for the control and treatment groups are approximately 12.04% and 11.88%, respectively.\n",
    "The treatment group is performing slightly worse than the control group.\n",
    "However, we cannot conclude that the test is complete based solely on these percentages, as statistical significance and confidence intervals must be considered before making a decision."
   ]
  },
  {
   "cell_type": "markdown",
   "id": "0c6f40bc-dc24-42a7-b630-263fed306432",
   "metadata": {},
   "source": [
    "Our primary metric is the conversion rate, which is binary (converted or not). Since we are comparing two proportions, we can use a two-proportion z-test to evaluate whether the difference between the control and treatment groups is statistically significant.\n",
    "\n",
    "From our observations, the difference in conversion rates is approximately −0.157 percentage points, which is very small. We will use a statistical test to determine whether this difference is significant and whether our sample size is sufficient for reliable conclusions.\n",
    "\n",
    "Additionally, the experiment was designed to maintain a 50/50 split between control and treatment groups. It is important to verify that this split was achieved. If there is a significant imbalance in group sizes, the experiment may be biased, and we cannot fully trust the results."
   ]
  },
  {
   "cell_type": "code",
   "execution_count": 244,
   "id": "130a2f32-50d8-487f-88a4-79b10183a09b",
   "metadata": {},
   "outputs": [
    {
     "data": {
      "text/plain": [
       "(0.5000619442226688, 0.4999380557773312)"
      ]
     },
     "execution_count": 244,
     "metadata": {},
     "output_type": "execute_result"
    }
   ],
   "source": [
    "N_test = df2.query('landing_page == \"new_page\"').landing_page.count()\n",
    "N_control = df2.query('landing_page == \"old_page\"').landing_page.count()\n",
    "proportion = (N_test/df2.shape[0],N_control/df2.shape[0])\n",
    "proportion"
   ]
  },
  {
   "cell_type": "markdown",
   "id": "b68fb535-e4d5-4cd3-b554-81ccb1a5677c",
   "metadata": {},
   "source": [
    "Use Chi-squared goodness of fit test , since we are comparing observed counts to expected counts ( 50/50)"
   ]
  },
  {
   "cell_type": "code",
   "execution_count": 247,
   "id": "871a4fad-cc83-44c7-96bb-dc02bf331110",
   "metadata": {},
   "outputs": [],
   "source": [
    "Total_sample=df2.shape[0]\n",
    "observed_counts = [proportion[0]*Total_sample, proportion[1]*Total_sample]\n",
    "expected_counts = [Total_sample/2, Total_sample/2]"
   ]
  },
  {
   "cell_type": "code",
   "execution_count": 249,
   "id": "db721cda-002c-41c0-ac8d-26855eb8d174",
   "metadata": {},
   "outputs": [
    {
     "name": "stdout",
     "output_type": "stream",
     "text": [
      "Chi-square statistic: 0.004459984032155934, p-value: 0.9467543681597944\n"
     ]
    }
   ],
   "source": [
    "from scipy.stats import chisquare\n",
    "\n",
    "chi2, pval = chisquare(f_obs=observed_counts, f_exp=expected_counts)\n",
    "print(f\"Chi-square statistic: {chi2}, p-value: {pval}\")"
   ]
  },
  {
   "cell_type": "markdown",
   "id": "d303be7e-da4d-4e87-b775-9dc92cdbc8ce",
   "metadata": {},
   "source": [
    "From the above test, we can conclude:\n",
    "1. We fail to reject NULL hypothesis.\n",
    "2. The observed split (49.9938% vs 50.0061%) is not significantly different from 50/50.\n",
    "3. That means the experiment’s randomization worked properly, and you can trust that users were evenly assigned between control and test groups."
   ]
  },
  {
   "cell_type": "markdown",
   "id": "1ab0de1e-edff-4b90-9aeb-e1ddffcc16d1",
   "metadata": {},
   "source": [
    "Before interpreting the results, it is important to ensure that our experiment has the appropriate sample size.\n",
    "1. With the right sample size, the test will have sufficient statistical power (typically 80% or 90%) to detect meaningful differences between control and treatment groups.\n",
    "2. If the sample size is too small, we risk false negatives (missing a real effect) or false positives (detecting differences due to random noise).\n",
    "3. If the sample size is too large, we waste traffic, time, and opportunity.\n",
    "   \n",
    "For this experiment, we consider:\n",
    "1. Significance level (α) = 0.05\n",
    "2. Power (1 − β) = 0.8–0.9\n",
    "3. Minimum Detectable Effect (MDE) = 0.5% (smallest difference in conversion rate we want to detect)\n",
    "4. Baseline conversion rate = 12%\n",
    "\n",
    "With these parameters, we can calculate the required sample size per group to ensure a well-powered and efficient A/B test."
   ]
  },
  {
   "cell_type": "code",
   "execution_count": 253,
   "id": "9aa6abb5-8a47-4670-bd74-f6c2d76222b7",
   "metadata": {},
   "outputs": [
    {
     "name": "stdout",
     "output_type": "stream",
     "text": [
      "Required sample size per group: 67490\n"
     ]
    }
   ],
   "source": [
    "baseline_rate = 0.12       # control conversion\n",
    "mde = 0.005                 # absolute difference we want to detect (0.5%)\n",
    "alpha = 0.05\n",
    "power = 0.8\n",
    "\n",
    "effect_size = proportion_effectsize(baseline_rate, baseline_rate + mde)\n",
    "analysis = NormalIndPower()\n",
    "sample_size = analysis.solve_power(effect_size=effect_size, power=power, alpha=alpha, ratio=1)\n",
    "print(f\"Required sample size per group: {round(sample_size)}\")"
   ]
  },
  {
   "cell_type": "markdown",
   "id": "b11e1d52-8e5d-4b96-9f49-2137d8399c29",
   "metadata": {},
   "source": [
    "From the calculations above:\n",
    "\n",
    "1. The actual sample size per group (~145k) is much larger than the required sample size (~67k) for detecting a 0.5% difference.\n",
    "2. The experiment is well-powered to detect a 0.5% absolute lift in conversion.\n",
    "3. Even smaller differences, such as the observed difference of 0.157 percentage points, could be statistically detected. However, such a tiny difference may not be practically meaningful.\n",
    "\n",
    "Overall, we have more than enough sample size to run this A/B test reliably."
   ]
  },
  {
   "cell_type": "markdown",
   "id": "bc22dc81-1ba8-479d-a13d-c3675f6c177c",
   "metadata": {},
   "source": [
    "We will perform a two-proportion z-test to compare conversion rates between the control and treatment groups.\n",
    "\n",
    "Null Hypothesis (H₀): The conversion rates in the two groups are the same.\n",
    "H₀​:pcontrol​=ptest ​OR pcontrol​−ptest​=0\n",
    "\n",
    "Alternative Hypothesis (H₁):The conversion rates are different.\n",
    "Two-tailed test: Detects any difference (increase or decrease)\n",
    "H₁: p(control) != p(test) \n",
    "One-tailed test: Detects only improvement (if we only care whether the test is better than control)\n",
    "H₁: p(test) > p(control) \n",
    "\n",
    "For this experiment, we will use the two-tailed test, as we are interested in detecting any difference in conversion rates between the two groups."
   ]
  },
  {
   "cell_type": "code",
   "execution_count": 257,
   "id": "81079edb-0098-46be-bbd3-7943cca51f82",
   "metadata": {},
   "outputs": [
    {
     "name": "stdout",
     "output_type": "stream",
     "text": [
      "Total sample size: 290584\n",
      "Conversion rate of Control group: 0.1203863045004612\n",
      "Conversion rate of Test group: 0.11880806551510564\n",
      "Size of Control group: 145274\n",
      "Size of Test group: 145310\n"
     ]
    }
   ],
   "source": [
    "print(f'Total sample size: {Total_sample}')\n",
    "print(f'Conversion rate of Control group: {p_control}')\n",
    "print(f'Conversion rate of Test group: {p_test}')\n",
    "print(f'Size of Control group: {N_control}')\n",
    "print(f'Size of Test group: {N_test}')"
   ]
  },
  {
   "cell_type": "code",
   "execution_count": 259,
   "id": "c5bd6896-89d4-4f8b-9358-c9128b712556",
   "metadata": {},
   "outputs": [
    {
     "name": "stdout",
     "output_type": "stream",
     "text": [
      "No of conversions from Control group: 17489\n",
      "No of conversions from Test group: 17264\n"
     ]
    }
   ],
   "source": [
    "Conv_control=(df2.query('group==\"control\"')['converted'] == 1).sum()\n",
    "Conv_test=(df2.query('group==\"treatment\"')['converted'] == 1).sum()\n",
    "\n",
    "print(f'No of conversions from Control group: {Conv_control}')\n",
    "print(f'No of conversions from Test group: {Conv_test}')"
   ]
  },
  {
   "cell_type": "code",
   "execution_count": 261,
   "id": "d93ba4f3-05cf-468d-9695-08b31ecf4a3f",
   "metadata": {},
   "outputs": [
    {
     "name": "stdout",
     "output_type": "stream",
     "text": [
      "\n",
      "--- Two-proportion Z-test ---\n",
      "Z-statistic: 1.310924\n",
      "P-value:     0.189883\n"
     ]
    }
   ],
   "source": [
    "# 2-proportion z-test\n",
    "count = np.array([Conv_control, Conv_test])\n",
    "nobs = np.array([N_control, N_test])\n",
    "\n",
    "z_stat, p_value = proportions_ztest(count, nobs, alternative='two-sided')\n",
    "print(\"\\n--- Two-proportion Z-test ---\")\n",
    "print(f\"Z-statistic: {z_stat:.6f}\")\n",
    "print(f\"P-value:     {p_value:.6f}\")"
   ]
  },
  {
   "cell_type": "markdown",
   "id": "05709501-ce74-476b-a944-8aa4ca5f5e1b",
   "metadata": {},
   "source": [
    "The p-value from the two-proportion z-test is 0.1898, which is greater than the significance level of 0.05.\n",
    "Therefore, we fail to reject the null hypothesis.\n",
    "\n",
    "This indicates that the new page is not statistically better than the old page in terms of conversion rate."
   ]
  },
  {
   "cell_type": "code",
   "execution_count": 264,
   "id": "60d6d91a-b60b-48ba-9842-4bf09840a3bd",
   "metadata": {},
   "outputs": [
    {
     "name": "stdout",
     "output_type": "stream",
     "text": [
      "\n",
      "--- 95% Confidence Interval ---\n",
      "Observed difference (test - control): -0.001578 (-0.158 %)\n",
      "95% CI: [-0.003938, 0.000781]\n"
     ]
    }
   ],
   "source": [
    "# 2) Confidence Interval for difference in proportions\n",
    "# observed proportions\n",
    "p1, p2 = Conv_control / N_control, Conv_test / N_test\n",
    "diff = p2 - p1\n",
    "\n",
    "# standard error\n",
    "\n",
    "p_pool = (Conv_control + Conv_test) / (N_control + N_test)\n",
    "se = math.sqrt(p_pool * (1 - p_pool) * (1/N_control + 1/N_test))\n",
    "\n",
    "ci_low = diff - 1.96 * se\n",
    "ci_high = diff + 1.96 * se\n",
    "\n",
    "print(\"\\n--- 95% Confidence Interval ---\")\n",
    "print(f\"Observed difference (test - control): {diff:.6f} ({diff*100:.3f} %)\")\n",
    "print(f\"95% CI: [{ci_low:.6f}, {ci_high:.6f}]\")"
   ]
  },
  {
   "cell_type": "markdown",
   "id": "47dbe647-9b6b-4bc6-9eb0-2556cc999cbf",
   "metadata": {},
   "source": [
    "Confidence Interval Interpretation\n",
    "\n",
    "The difference in conversion rates is uncertain, but with 95% confidence, the true difference lies somewhere between a 0.39% decrease and a 0.08% increase for the test page.\n",
    "1. These are very small effects compared to the baseline conversion rate of ~12% (control group).\n",
    "2. Since the confidence interval crosses zero (ranges from negative to positive), the result is not statistically significant at \n",
    "𝛼=0.05\n",
    "Conclusion: We fail to reject the null hypothesis.\n",
    "1. The new page is unlikely to provide a meaningful improvement.\n",
    "2. At best, it is neutral or slightly positive; at worst, it could cause a small decrease in conversions."
   ]
  },
  {
   "cell_type": "code",
   "execution_count": 267,
   "id": "1adea0aa-687a-4c07-a9d9-cf983a55c029",
   "metadata": {},
   "outputs": [
    {
     "name": "stdout",
     "output_type": "stream",
     "text": [
      "\n",
      "--- Power Analysis ---\n",
      "Observed effect size (Cohen h): 0.004864\n",
      "Power with current sample size: 0.2587\n"
     ]
    }
   ],
   "source": [
    "# 3) Power analysis for the observed effect\n",
    "analysis = NormalIndPower()\n",
    "effect_size = proportion_effectsize(p1, p2)\n",
    "power = analysis.power(effect_size=effect_size, nobs1=N_control, alpha=0.05, ratio=N_test/N_control)\n",
    "\n",
    "print(\"\\n--- Power Analysis ---\")\n",
    "print(f\"Observed effect size (Cohen h): {effect_size:.6f}\")\n",
    "print(f\"Power with current sample size: {power:.4f}\")"
   ]
  },
  {
   "cell_type": "markdown",
   "id": "0c585194-d08d-4774-b718-d190fe82d2e3",
   "metadata": {},
   "source": [
    "Power Analysis\n",
    "We performed a power analysis to determine the probability of detecting the observed effect at a significance level of 𝛼 = 0.05\n",
    "1. The observed difference between the test and control groups is very small, approximately 0.158%.\n",
    "2. Given our current sample size, the power to detect an effect of this magnitude is only 25.87%, which is well below the commonly accepted threshold of 80%.\n",
    "3. This indicates that the test is underpowered for detecting such a tiny effect.\n",
    "\n",
    "Additionally, the observed effect size, calculated as Cohen's h, is approximately 0.00486, which is considered extremely small. This aligns with the negligible difference observed between the test and control groups."
   ]
  },
  {
   "cell_type": "code",
   "execution_count": 270,
   "id": "e5d68ec2-f500-4684-8d35-fd918dadaaca",
   "metadata": {},
   "outputs": [
    {
     "name": "stdout",
     "output_type": "stream",
     "text": [
      "Required per-group sample size (to detect observed diff): 663574\n"
     ]
    }
   ],
   "source": [
    "# 4) Required sample size per group for 80% power to detect observed diff\n",
    "req_n_per_group = analysis.solve_power(effect_size=effect_size, power=0.8, alpha=0.05, ratio=1)\n",
    "print(f\"Required per-group sample size (to detect observed diff): {req_n_per_group:.0f}\")"
   ]
  },
  {
   "cell_type": "markdown",
   "id": "a20a763c-e158-4159-8db6-f1cdf6b72508",
   "metadata": {},
   "source": [
    "To have an 80% chance of detecting the tiny observed effect (~−0.1578 percentage points) if it is real, we would need approximately:\n",
    "663,574 users in the control group; 663,574 users in the test group. This totals to roughly 1,327,148 users.\n",
    "\n",
    "Tiny effects require very large sample sizes to detect reliably, which explains why our current experiment is underpowered for this specific difference."
   ]
  },
  {
   "cell_type": "markdown",
   "id": "67dd5d22-0d44-4f0f-b96d-d0dd1a420f06",
   "metadata": {},
   "source": [
    "Final Results, Interpretation, and Recommendations\n",
    "\n",
    "Experiment Power and Practical Significance\n",
    "1. The current experiment (~145k users per group) is well-powered to detect practical Minimum Detectable Effects (MDEs) ≥ 0.35%.\n",
    "2. Since the business MDE for this experiment was 0.5%, the observed difference of −0.16% indicates no evidence that the new page improves conversions.\n",
    "Conclusion: The new webpage does not generate meaningful increases in conversions compared to the old page.\n",
    "\n",
    "Confidence Interval Analysis\n",
    "1. The observed 95% confidence interval for the difference in conversion rates is [−0.003938, 0.000781].\n",
    "2. Our chosen MDE (0.5%) lies outside this interval, confirming that the observed difference is not practically significant.\n",
    "Interpretation: The new page is not better than the old page in a business-relevant sense.\n",
    "\n",
    "Detecting Very Small Effects\n",
    "1. The experiment is underpowered to reliably detect the very small observed effect (~0.16 percentage points).\n",
    "2. Detecting such a tiny difference would require an impractically large experiment (~1.3M users total).\n",
    "Recommendation: If detecting effects this small is critical, consider increasing the sample size or exploring higher-variance metrics or targeted segments."
   ]
  }
 ],
 "metadata": {
  "kernelspec": {
   "display_name": "Python 3 (ipykernel)",
   "language": "python",
   "name": "python3"
  },
  "language_info": {
   "codemirror_mode": {
    "name": "ipython",
    "version": 3
   },
   "file_extension": ".py",
   "mimetype": "text/x-python",
   "name": "python",
   "nbconvert_exporter": "python",
   "pygments_lexer": "ipython3",
   "version": "3.12.2"
  }
 },
 "nbformat": 4,
 "nbformat_minor": 5
}
